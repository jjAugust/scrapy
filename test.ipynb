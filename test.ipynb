{
 "cells": [
  {
   "cell_type": "code",
   "execution_count": 1,
   "metadata": {},
   "outputs": [],
   "source": [
    "import scrapy\n",
    "\n",
    "\n",
    "class QuotesSpider(scrapy.Spider):\n",
    "    name = \"quotes\"\n",
    "    start_urls = [\n",
    "        'http://quotes.toscrape.com/tag/humor/',\n",
    "    ]\n",
    "\n",
    "    def parse(self, response):\n",
    "        for quote in response.css('div.quote'):\n",
    "            yield {\n",
    "                'text': quote.css('span.text::text').extract_first(),\n",
    "                'author': quote.xpath('span/small/text()').extract_first(),\n",
    "            }\n",
    "\n",
    "        next_page = response.css('li.next a::attr(\"href\")').extract_first()\n",
    "        if next_page is not None:\n",
    "            yield response.follow(next_page, self.parse)"
   ]
  },
  {
   "cell_type": "code",
   "execution_count": 4,
   "metadata": {},
   "outputs": [],
   "source": [
    "from selenium import webdriver\n",
    "from scrapy.http import HtmlResponse\n",
    "import time\n",
    "from selenium.webdriver.common.action_chains import ActionChains\n",
    "from selenium.webdriver.common.desired_capabilities import DesiredCapabilities\n",
    "from random import choice\n",
    "\n",
    "class SeleniumMiddleware(object):\n",
    "    def process_request(self, request, spider):\n",
    "        click_page_url=\"http://weixin.sogou.com\"\n",
    "        if request.url==click_page_url:\n",
    "            driver = webdriver.PhantomJS()\n",
    "            try:\n",
    "                driver.get(request.url)\n",
    "                driver.implicitly_wait(3)\n",
    "                time.sleep(5)\n",
    "\n",
    "                look_more=\".//div[@class='jzgd']/a\"\n",
    "                for n in range(4):\n",
    "                    driver.find_element_by_xpath(look_more).click()  # 数据由js来控制,点击后加载数据\n",
    "                    time.sleep(5)\n",
    "\n",
    "                true_page = driver.page_source\n",
    "                driver.close()\n",
    "\n",
    "                return HtmlResponse(request.url,body = true_page,encoding = 'utf-8',request = request,)\n",
    "\n",
    "            except:\n",
    "                print(\"get news data failed\")\n",
    "        else:\n",
    "            return None"
   ]
  },
  {
   "cell_type": "code",
   "execution_count": null,
   "metadata": {},
   "outputs": [],
   "source": []
  }
 ],
 "metadata": {
  "kernelspec": {
   "display_name": "Python 3",
   "language": "python",
   "name": "python3"
  },
  "language_info": {
   "codemirror_mode": {
    "name": "ipython",
    "version": 3
   },
   "file_extension": ".py",
   "mimetype": "text/x-python",
   "name": "python",
   "nbconvert_exporter": "python",
   "pygments_lexer": "ipython3",
   "version": "3.5.2"
  }
 },
 "nbformat": 4,
 "nbformat_minor": 2
}
